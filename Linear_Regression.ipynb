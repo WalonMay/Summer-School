{
 "cells": [
  {
   "cell_type": "markdown",
   "metadata": {
    "collapsed": true
   },
   "source": [
    "# Linear Regression 线性回归"
   ]
  },
  {
   "cell_type": "markdown",
   "metadata": {},
   "source": [
    "Name: [20162280076 数学系 梅志豪]\n",
    "\n",
    "Skeleton framework for you to fill in (Code you need to provide is marked by `###`):"
   ]
  },
  {
   "cell_type": "code",
   "execution_count": 16,
   "metadata": {
    "collapsed": true
   },
   "outputs": [],
   "source": [
    "import scipy.io as sio\n",
    "import matplotlib.pyplot as plt  \n",
    "import numpy as np \n",
    "from numpy import linalg\n",
    "import pandas as pd"
   ]
  },
  {
   "cell_type": "code",
   "execution_count": 17,
   "metadata": {
    "collapsed": true
   },
   "outputs": [],
   "source": [
    "def LR_train( x , y , lamb=0.0001 ):\n",
    "    \"\"\"\n",
    "    Function: Calculate the regression coefficient\n",
    "    Input:    \n",
    "              x:    Training data, size: [num_sample dimension], type: numpy.ndarray\n",
    "              y:    Training label, size: [num_sample 1], type: numpy.ndarray\n",
    "              lamb: The regularization coefficient\n",
    "    Outpyt:   \n",
    "              w:    Regression coefficient\n",
    "    \"\"\"\n",
    "    # The variable m is the number of the training data. \n",
    "    # The variable d is the dimension of the training data.\n",
    "    [m, d] = x.shape\n",
    "    \n",
    "    # Add a vector whose component all is 1 to the sample matrix\n",
    "    # If x is a matrix, x.T means the transpose of x.\n",
    "    x = np.column_stack( ((np.ones(m)).T , x) )\n",
    "    \n",
    "    # Your code\n",
    "    # Here you should calculate the weight.\n",
    "    # You may use two functions:\n",
    "    # 1. linalg.pinv(). This function is used to solve the pseudo-inverse of the matrix.\n",
    "    # You can know more about it from https://docs.scipy.org/doc/numpy/reference/generated/numpy.linalg.pinv.html.\n",
    "    # 2. np.dot(). This function is dot product of two arrays.\n",
    "    # You can know more about it from https://docs.scipy.org/doc/numpy/reference/generated/numpy.dot.html.\n",
<<<<<<< HEAD
    "    w = linalg.pinv(x.T.dot(x)).dot(x.T).dot(y)\n",
=======
    "    w = np.dot( np.linalg.pinv( np.dot( x.T , x) ), np.dot( x.T , y ) )\n",
>>>>>>> origin/master
    "    \n",
    "    return w"
   ]
  },
  {
   "cell_type": "code",
   "execution_count": 18,
   "metadata": {
    "collapsed": true
   },
   "outputs": [],
   "source": [
    "def LR_test( x , y, w, problem_type='regression' ):\n",
    "    \"\"\"\n",
    "    Function: Predict the testing data\n",
    "    Input:    \n",
    "              x: Testing data, size: [num_sample dimension], type: numpy.ndarray\n",
    "              y: Testing label, size: [num_sample 1], type: numpy.ndarray\n",
    "              w: Regression coefficient, size: [dimension+1 1], type: numpy.ndarray\n",
    "              problem_type: The type of problem which you want to slove. Only regression and classification, type: string\n",
    "    Output:   \n",
    "              t: Prediction of testing data\n",
    "    \"\"\"\n",
    "    # The variable m is the number of the testing data. \n",
    "    # The variable d is the dimension of the testing data.\n",
    "    m, d = x.shape\n",
    "    \n",
    "    x = np.column_stack( ((np.ones(m)).T , x) )\n",
    "    # Your code\n",
    "    # Here, the variable t is the prediction of testing data, and you should calculate it.\n",
<<<<<<< HEAD
    "    t = linalg.pinv(w.dot(x))\n",
=======
    "    t = np.dot( w.T , x.T )\n",
>>>>>>> origin/master
    "    \n",
    "    # Three kinds of errors\n",
    "    er = t - y\n",
    "    MSE = (er**2).mean()                      # Mean Squared Error\n",
    "    MAE = abs(er).mean()                      # Average Absolute Error\n",
    "    SD = np.sqrt((( er-er.mean())**2).mean()) # Error Standard Deviation\n",
    "    \n",
    "    if problem_type=='classification':\n",
    "        acc = np.equal(np.rint(t), y).mean() * 100\n",
    "        text = \"The Linear Regression's accuracy is %.2f%%.\" %(acc)\n",
    "        print(text)\n",
    "    \n",
    "    obj = pd.Series([MSE,MAE,SD], index=['MSE','MAE','SD'])\n",
    "    print(obj)\n",
    "    \n",
    "    return t"
   ]
  },
  {
   "cell_type": "code",
   "execution_count": 19,
   "metadata": {},
   "outputs": [
    {
     "data": {
<<<<<<< HEAD
      "image/png": "iVBORw0KGgoAAAANSUhEUgAAAXQAAAD8CAYAAABn919SAAAABHNCSVQICAgIfAhkiAAAAAlwSFlz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\nkiYU6CIiaUKBLiKSJv4/VxFMWs1vnscAAAAASUVORK5CYII=\n",
      "text/plain": [
       "<matplotlib.figure.Figure at 0xae662e8>"
=======
      "image/png": "iVBORw0KGgoAAAANSUhEUgAAAXQAAAD8CAYAAABn919SAAAABHNCSVQICAgIfAhkiAAAAAlwSFlz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\n",
      "text/plain": [
       "<matplotlib.figure.Figure at 0x4deda90>"
>>>>>>> origin/master
      ]
     },
     "metadata": {},
     "output_type": "display_data"
    }
   ],
   "source": [
    "# Create data\n",
    "# The slope k is 1, the bias b is 2. The weight is the transposition of [w, b]\n",
    "w = np.array([[1.0], [2.0]])\n",
    "\n",
    "# The x is (0, 0.05, 0.1,..., 4.95, 5)\n",
    "x = np.arange(0,5,5/100)\n",
    "x = np.column_stack( ((np.ones(100)) , x) )\n",
    "\n",
    "true_y = np.dot(x, w)\n",
    "# Add the noise to the data.\n",
    "noise_y = true_y + np.random.randn(100,1)\n",
    "true_y = np.round(true_y, 2)\n",
    "\n",
    "plt.plot(x[:,1], noise_y, 'o')\n",
    "plt.plot(x[:,1], np.dot(x, w))\n",
    "plt.show()"
   ]
  },
  {
   "cell_type": "code",
   "execution_count": 20,
   "metadata": {},
   "outputs": [
    {
<<<<<<< HEAD
     "ename": "ValueError",
     "evalue": "shapes (3,1) and (100,3) not aligned: 1 (dim 1) != 100 (dim 0)",
=======
     "name": "stdout",
     "output_type": "stream",
     "text": [
      "MSE    16.713376\n",
      "MAE     3.337999\n",
      "SD      4.086381\n",
      "dtype: float64\n"
     ]
    },
    {
     "ename": "ValueError",
     "evalue": "x and y must have same first dimension, but have shapes (100,) and (1, 100)",
>>>>>>> origin/master
     "output_type": "error",
     "traceback": [
      "\u001b[1;31m---------------------------------------------------------------------------\u001b[0m",
      "\u001b[1;31mValueError\u001b[0m                                Traceback (most recent call last)",
<<<<<<< HEAD
      "\u001b[1;32m<ipython-input-20-e7df3cd42c73>\u001b[0m in \u001b[0;36m<module>\u001b[1;34m()\u001b[0m\n\u001b[0;32m      1\u001b[0m \u001b[0mpred_w\u001b[0m \u001b[1;33m=\u001b[0m \u001b[0mLR_train\u001b[0m\u001b[1;33m(\u001b[0m\u001b[0mx\u001b[0m\u001b[1;33m,\u001b[0m \u001b[0mnoise_y\u001b[0m\u001b[1;33m)\u001b[0m\u001b[1;33m\u001b[0m\u001b[0m\n\u001b[1;32m----> 2\u001b[1;33m \u001b[0mt\u001b[0m \u001b[1;33m=\u001b[0m \u001b[0mLR_test\u001b[0m\u001b[1;33m(\u001b[0m\u001b[0mx\u001b[0m\u001b[1;33m,\u001b[0m \u001b[0mtrue_y\u001b[0m\u001b[1;33m,\u001b[0m \u001b[0mpred_w\u001b[0m\u001b[1;33m)\u001b[0m\u001b[1;33m\u001b[0m\u001b[0m\n\u001b[0m\u001b[0;32m      3\u001b[0m \u001b[1;33m\u001b[0m\u001b[0m\n\u001b[0;32m      4\u001b[0m \u001b[0mplt\u001b[0m\u001b[1;33m.\u001b[0m\u001b[0mfigure\u001b[0m\u001b[1;33m(\u001b[0m\u001b[0mfigsize\u001b[0m\u001b[1;33m=\u001b[0m\u001b[1;33m(\u001b[0m\u001b[1;36m10\u001b[0m\u001b[1;33m,\u001b[0m\u001b[1;36m10\u001b[0m\u001b[1;33m)\u001b[0m\u001b[1;33m)\u001b[0m\u001b[1;33m\u001b[0m\u001b[0m\n\u001b[0;32m      5\u001b[0m \u001b[0mplt\u001b[0m\u001b[1;33m.\u001b[0m\u001b[0mplot\u001b[0m\u001b[1;33m(\u001b[0m\u001b[0mx\u001b[0m\u001b[1;33m[\u001b[0m\u001b[1;33m:\u001b[0m\u001b[1;33m,\u001b[0m\u001b[1;36m1\u001b[0m\u001b[1;33m]\u001b[0m\u001b[1;33m,\u001b[0m \u001b[0mt\u001b[0m\u001b[1;33m,\u001b[0m \u001b[1;34m'b'\u001b[0m\u001b[1;33m)\u001b[0m\u001b[1;33m\u001b[0m\u001b[0m\n",
      "\u001b[1;32m<ipython-input-18-27dd7c9ae178>\u001b[0m in \u001b[0;36mLR_test\u001b[1;34m(x, y, w, problem_type)\u001b[0m\n\u001b[0;32m     17\u001b[0m     \u001b[1;31m# Your code\u001b[0m\u001b[1;33m\u001b[0m\u001b[1;33m\u001b[0m\u001b[0m\n\u001b[0;32m     18\u001b[0m     \u001b[1;31m# Here, the variable t is the prediction of testing data, and you should calculate it.\u001b[0m\u001b[1;33m\u001b[0m\u001b[1;33m\u001b[0m\u001b[0m\n\u001b[1;32m---> 19\u001b[1;33m     \u001b[0mt\u001b[0m \u001b[1;33m=\u001b[0m \u001b[0mw\u001b[0m\u001b[1;33m.\u001b[0m\u001b[0mdot\u001b[0m\u001b[1;33m(\u001b[0m\u001b[0mx\u001b[0m\u001b[1;33m)\u001b[0m\u001b[1;33m\u001b[0m\u001b[0m\n\u001b[0m\u001b[0;32m     20\u001b[0m \u001b[1;33m\u001b[0m\u001b[0m\n\u001b[0;32m     21\u001b[0m     \u001b[1;31m# Three kinds of errors\u001b[0m\u001b[1;33m\u001b[0m\u001b[1;33m\u001b[0m\u001b[0m\n",
      "\u001b[1;31mValueError\u001b[0m: shapes (3,1) and (100,3) not aligned: 1 (dim 1) != 100 (dim 0)"
=======
      "\u001b[1;32m<ipython-input-5-e7df3cd42c73>\u001b[0m in \u001b[0;36m<module>\u001b[1;34m()\u001b[0m\n\u001b[0;32m      3\u001b[0m \u001b[1;33m\u001b[0m\u001b[0m\n\u001b[0;32m      4\u001b[0m \u001b[0mplt\u001b[0m\u001b[1;33m.\u001b[0m\u001b[0mfigure\u001b[0m\u001b[1;33m(\u001b[0m\u001b[0mfigsize\u001b[0m\u001b[1;33m=\u001b[0m\u001b[1;33m(\u001b[0m\u001b[1;36m10\u001b[0m\u001b[1;33m,\u001b[0m\u001b[1;36m10\u001b[0m\u001b[1;33m)\u001b[0m\u001b[1;33m)\u001b[0m\u001b[1;33m\u001b[0m\u001b[0m\n\u001b[1;32m----> 5\u001b[1;33m \u001b[0mplt\u001b[0m\u001b[1;33m.\u001b[0m\u001b[0mplot\u001b[0m\u001b[1;33m(\u001b[0m\u001b[0mx\u001b[0m\u001b[1;33m[\u001b[0m\u001b[1;33m:\u001b[0m\u001b[1;33m,\u001b[0m\u001b[1;36m1\u001b[0m\u001b[1;33m]\u001b[0m\u001b[1;33m,\u001b[0m \u001b[0mt\u001b[0m\u001b[1;33m,\u001b[0m \u001b[1;34m'b'\u001b[0m\u001b[1;33m)\u001b[0m\u001b[1;33m\u001b[0m\u001b[0m\n\u001b[0m\u001b[0;32m      6\u001b[0m \u001b[0mplt\u001b[0m\u001b[1;33m.\u001b[0m\u001b[0mplot\u001b[0m\u001b[1;33m(\u001b[0m\u001b[0mx\u001b[0m\u001b[1;33m[\u001b[0m\u001b[1;33m:\u001b[0m\u001b[1;33m,\u001b[0m\u001b[1;36m1\u001b[0m\u001b[1;33m]\u001b[0m\u001b[1;33m,\u001b[0m \u001b[0mnp\u001b[0m\u001b[1;33m.\u001b[0m\u001b[0mdot\u001b[0m\u001b[1;33m(\u001b[0m\u001b[0mx\u001b[0m\u001b[1;33m,\u001b[0m \u001b[0mw\u001b[0m\u001b[1;33m)\u001b[0m\u001b[1;33m,\u001b[0m \u001b[1;34m'r'\u001b[0m\u001b[1;33m)\u001b[0m\u001b[1;33m\u001b[0m\u001b[0m\n\u001b[0;32m      7\u001b[0m \u001b[0mplt\u001b[0m\u001b[1;33m.\u001b[0m\u001b[0mshow\u001b[0m\u001b[1;33m(\u001b[0m\u001b[1;33m)\u001b[0m\u001b[1;33m\u001b[0m\u001b[0m\n",
      "\u001b[1;32mE:\\Anaconda3\\lib\\site-packages\\matplotlib\\pyplot.py\u001b[0m in \u001b[0;36mplot\u001b[1;34m(*args, **kwargs)\u001b[0m\n\u001b[0;32m   3315\u001b[0m                       mplDeprecation)\n\u001b[0;32m   3316\u001b[0m     \u001b[1;32mtry\u001b[0m\u001b[1;33m:\u001b[0m\u001b[1;33m\u001b[0m\u001b[0m\n\u001b[1;32m-> 3317\u001b[1;33m         \u001b[0mret\u001b[0m \u001b[1;33m=\u001b[0m \u001b[0max\u001b[0m\u001b[1;33m.\u001b[0m\u001b[0mplot\u001b[0m\u001b[1;33m(\u001b[0m\u001b[1;33m*\u001b[0m\u001b[0margs\u001b[0m\u001b[1;33m,\u001b[0m \u001b[1;33m**\u001b[0m\u001b[0mkwargs\u001b[0m\u001b[1;33m)\u001b[0m\u001b[1;33m\u001b[0m\u001b[0m\n\u001b[0m\u001b[0;32m   3318\u001b[0m     \u001b[1;32mfinally\u001b[0m\u001b[1;33m:\u001b[0m\u001b[1;33m\u001b[0m\u001b[0m\n\u001b[0;32m   3319\u001b[0m         \u001b[0max\u001b[0m\u001b[1;33m.\u001b[0m\u001b[0m_hold\u001b[0m \u001b[1;33m=\u001b[0m \u001b[0mwashold\u001b[0m\u001b[1;33m\u001b[0m\u001b[0m\n",
      "\u001b[1;32mE:\\Anaconda3\\lib\\site-packages\\matplotlib\\__init__.py\u001b[0m in \u001b[0;36minner\u001b[1;34m(ax, *args, **kwargs)\u001b[0m\n\u001b[0;32m   1895\u001b[0m                     warnings.warn(msg % (label_namer, func.__name__),\n\u001b[0;32m   1896\u001b[0m                                   RuntimeWarning, stacklevel=2)\n\u001b[1;32m-> 1897\u001b[1;33m             \u001b[1;32mreturn\u001b[0m \u001b[0mfunc\u001b[0m\u001b[1;33m(\u001b[0m\u001b[0max\u001b[0m\u001b[1;33m,\u001b[0m \u001b[1;33m*\u001b[0m\u001b[0margs\u001b[0m\u001b[1;33m,\u001b[0m \u001b[1;33m**\u001b[0m\u001b[0mkwargs\u001b[0m\u001b[1;33m)\u001b[0m\u001b[1;33m\u001b[0m\u001b[0m\n\u001b[0m\u001b[0;32m   1898\u001b[0m         \u001b[0mpre_doc\u001b[0m \u001b[1;33m=\u001b[0m \u001b[0minner\u001b[0m\u001b[1;33m.\u001b[0m\u001b[0m__doc__\u001b[0m\u001b[1;33m\u001b[0m\u001b[0m\n\u001b[0;32m   1899\u001b[0m         \u001b[1;32mif\u001b[0m \u001b[0mpre_doc\u001b[0m \u001b[1;32mis\u001b[0m \u001b[1;32mNone\u001b[0m\u001b[1;33m:\u001b[0m\u001b[1;33m\u001b[0m\u001b[0m\n",
      "\u001b[1;32mE:\\Anaconda3\\lib\\site-packages\\matplotlib\\axes\\_axes.py\u001b[0m in \u001b[0;36mplot\u001b[1;34m(self, *args, **kwargs)\u001b[0m\n\u001b[0;32m   1404\u001b[0m         \u001b[0mkwargs\u001b[0m \u001b[1;33m=\u001b[0m \u001b[0mcbook\u001b[0m\u001b[1;33m.\u001b[0m\u001b[0mnormalize_kwargs\u001b[0m\u001b[1;33m(\u001b[0m\u001b[0mkwargs\u001b[0m\u001b[1;33m,\u001b[0m \u001b[0m_alias_map\u001b[0m\u001b[1;33m)\u001b[0m\u001b[1;33m\u001b[0m\u001b[0m\n\u001b[0;32m   1405\u001b[0m \u001b[1;33m\u001b[0m\u001b[0m\n\u001b[1;32m-> 1406\u001b[1;33m         \u001b[1;32mfor\u001b[0m \u001b[0mline\u001b[0m \u001b[1;32min\u001b[0m \u001b[0mself\u001b[0m\u001b[1;33m.\u001b[0m\u001b[0m_get_lines\u001b[0m\u001b[1;33m(\u001b[0m\u001b[1;33m*\u001b[0m\u001b[0margs\u001b[0m\u001b[1;33m,\u001b[0m \u001b[1;33m**\u001b[0m\u001b[0mkwargs\u001b[0m\u001b[1;33m)\u001b[0m\u001b[1;33m:\u001b[0m\u001b[1;33m\u001b[0m\u001b[0m\n\u001b[0m\u001b[0;32m   1407\u001b[0m             \u001b[0mself\u001b[0m\u001b[1;33m.\u001b[0m\u001b[0madd_line\u001b[0m\u001b[1;33m(\u001b[0m\u001b[0mline\u001b[0m\u001b[1;33m)\u001b[0m\u001b[1;33m\u001b[0m\u001b[0m\n\u001b[0;32m   1408\u001b[0m             \u001b[0mlines\u001b[0m\u001b[1;33m.\u001b[0m\u001b[0mappend\u001b[0m\u001b[1;33m(\u001b[0m\u001b[0mline\u001b[0m\u001b[1;33m)\u001b[0m\u001b[1;33m\u001b[0m\u001b[0m\n",
      "\u001b[1;32mE:\\Anaconda3\\lib\\site-packages\\matplotlib\\axes\\_base.py\u001b[0m in \u001b[0;36m_grab_next_args\u001b[1;34m(self, *args, **kwargs)\u001b[0m\n\u001b[0;32m    405\u001b[0m                 \u001b[1;32mreturn\u001b[0m\u001b[1;33m\u001b[0m\u001b[0m\n\u001b[0;32m    406\u001b[0m             \u001b[1;32mif\u001b[0m \u001b[0mlen\u001b[0m\u001b[1;33m(\u001b[0m\u001b[0mremaining\u001b[0m\u001b[1;33m)\u001b[0m \u001b[1;33m<=\u001b[0m \u001b[1;36m3\u001b[0m\u001b[1;33m:\u001b[0m\u001b[1;33m\u001b[0m\u001b[0m\n\u001b[1;32m--> 407\u001b[1;33m                 \u001b[1;32mfor\u001b[0m \u001b[0mseg\u001b[0m \u001b[1;32min\u001b[0m \u001b[0mself\u001b[0m\u001b[1;33m.\u001b[0m\u001b[0m_plot_args\u001b[0m\u001b[1;33m(\u001b[0m\u001b[0mremaining\u001b[0m\u001b[1;33m,\u001b[0m \u001b[0mkwargs\u001b[0m\u001b[1;33m)\u001b[0m\u001b[1;33m:\u001b[0m\u001b[1;33m\u001b[0m\u001b[0m\n\u001b[0m\u001b[0;32m    408\u001b[0m                     \u001b[1;32myield\u001b[0m \u001b[0mseg\u001b[0m\u001b[1;33m\u001b[0m\u001b[0m\n\u001b[0;32m    409\u001b[0m                 \u001b[1;32mreturn\u001b[0m\u001b[1;33m\u001b[0m\u001b[0m\n",
      "\u001b[1;32mE:\\Anaconda3\\lib\\site-packages\\matplotlib\\axes\\_base.py\u001b[0m in \u001b[0;36m_plot_args\u001b[1;34m(self, tup, kwargs)\u001b[0m\n\u001b[0;32m    383\u001b[0m             \u001b[0mx\u001b[0m\u001b[1;33m,\u001b[0m \u001b[0my\u001b[0m \u001b[1;33m=\u001b[0m \u001b[0mindex_of\u001b[0m\u001b[1;33m(\u001b[0m\u001b[0mtup\u001b[0m\u001b[1;33m[\u001b[0m\u001b[1;33m-\u001b[0m\u001b[1;36m1\u001b[0m\u001b[1;33m]\u001b[0m\u001b[1;33m)\u001b[0m\u001b[1;33m\u001b[0m\u001b[0m\n\u001b[0;32m    384\u001b[0m \u001b[1;33m\u001b[0m\u001b[0m\n\u001b[1;32m--> 385\u001b[1;33m         \u001b[0mx\u001b[0m\u001b[1;33m,\u001b[0m \u001b[0my\u001b[0m \u001b[1;33m=\u001b[0m \u001b[0mself\u001b[0m\u001b[1;33m.\u001b[0m\u001b[0m_xy_from_xy\u001b[0m\u001b[1;33m(\u001b[0m\u001b[0mx\u001b[0m\u001b[1;33m,\u001b[0m \u001b[0my\u001b[0m\u001b[1;33m)\u001b[0m\u001b[1;33m\u001b[0m\u001b[0m\n\u001b[0m\u001b[0;32m    386\u001b[0m \u001b[1;33m\u001b[0m\u001b[0m\n\u001b[0;32m    387\u001b[0m         \u001b[1;32mif\u001b[0m \u001b[0mself\u001b[0m\u001b[1;33m.\u001b[0m\u001b[0mcommand\u001b[0m \u001b[1;33m==\u001b[0m \u001b[1;34m'plot'\u001b[0m\u001b[1;33m:\u001b[0m\u001b[1;33m\u001b[0m\u001b[0m\n",
      "\u001b[1;32mE:\\Anaconda3\\lib\\site-packages\\matplotlib\\axes\\_base.py\u001b[0m in \u001b[0;36m_xy_from_xy\u001b[1;34m(self, x, y)\u001b[0m\n\u001b[0;32m    242\u001b[0m         \u001b[1;32mif\u001b[0m \u001b[0mx\u001b[0m\u001b[1;33m.\u001b[0m\u001b[0mshape\u001b[0m\u001b[1;33m[\u001b[0m\u001b[1;36m0\u001b[0m\u001b[1;33m]\u001b[0m \u001b[1;33m!=\u001b[0m \u001b[0my\u001b[0m\u001b[1;33m.\u001b[0m\u001b[0mshape\u001b[0m\u001b[1;33m[\u001b[0m\u001b[1;36m0\u001b[0m\u001b[1;33m]\u001b[0m\u001b[1;33m:\u001b[0m\u001b[1;33m\u001b[0m\u001b[0m\n\u001b[0;32m    243\u001b[0m             raise ValueError(\"x and y must have same first dimension, but \"\n\u001b[1;32m--> 244\u001b[1;33m                              \"have shapes {} and {}\".format(x.shape, y.shape))\n\u001b[0m\u001b[0;32m    245\u001b[0m         \u001b[1;32mif\u001b[0m \u001b[0mx\u001b[0m\u001b[1;33m.\u001b[0m\u001b[0mndim\u001b[0m \u001b[1;33m>\u001b[0m \u001b[1;36m2\u001b[0m \u001b[1;32mor\u001b[0m \u001b[0my\u001b[0m\u001b[1;33m.\u001b[0m\u001b[0mndim\u001b[0m \u001b[1;33m>\u001b[0m \u001b[1;36m2\u001b[0m\u001b[1;33m:\u001b[0m\u001b[1;33m\u001b[0m\u001b[0m\n\u001b[0;32m    246\u001b[0m             raise ValueError(\"x and y can be no greater than 2-D, but have \"\n",
      "\u001b[1;31mValueError\u001b[0m: x and y must have same first dimension, but have shapes (100,) and (1, 100)"
>>>>>>> origin/master
     ]
    }
   ],
   "source": [
    "pred_w = LR_train(x, noise_y)\n",
    "t = LR_test(x, true_y, pred_w)\n",
    "\n",
    "plt.figure(figsize=(10,10)) \n",
    "plt.plot(x[:,1], t, 'b')\n",
    "plt.plot(x[:,1], np.dot(x, w), 'r')\n",
    "plt.show()\n",
    "print('The blue one is the Linear Regression estimated parameters. The red one is the true parameters.')"
   ]
  },
  {
   "cell_type": "code",
   "execution_count": null,
   "metadata": {
    "collapsed": true
   },
   "outputs": [],
   "source": [
    "# Import data\n",
    "# data_path = ### \"The path where you store the SpectralClassification data\" ###\n",
    "data_path = \"data/SpectralClassification/No_removal_of_continuous_spectrum/\"\n",
    "\n",
    "data=sio.loadmat(data_path + \"SpectralClassificationTrain.mat\") \n",
    "train_x = data['train_x']\n",
    "train_y = np.reshape(data['train_y'][:,0], [-1,1])\n",
    "\n",
    "data=sio.loadmat(data_path + \"SpectralClassificationTest.mat\") \n",
    "test_x = data['test_x']\n",
    "test_y = np.reshape(data['test_y'][:,0], [-1,1])\n",
    "\n",
    "del data"
   ]
  },
  {
   "cell_type": "code",
   "execution_count": null,
<<<<<<< HEAD
   "metadata": {},
=======
   "metadata": {
    "collapsed": true
   },
>>>>>>> origin/master
   "outputs": [],
   "source": [
    "w = LR_train(train_x, train_y)\n",
    "t = LR_test(test_x , test_y , w, problem_type='classification')"
   ]
  },
  {
   "cell_type": "code",
   "execution_count": null,
   "metadata": {
    "collapsed": true
   },
   "outputs": [],
   "source": []
  }
 ],
 "metadata": {
  "kernelspec": {
   "display_name": "Python 3",
   "language": "python",
   "name": "python3"
  },
  "language_info": {
   "codemirror_mode": {
    "name": "ipython",
    "version": 3
   },
   "file_extension": ".py",
   "mimetype": "text/x-python",
   "name": "python",
   "nbconvert_exporter": "python",
   "pygments_lexer": "ipython3",
   "version": "3.6.1"
  }
 },
 "nbformat": 4,
 "nbformat_minor": 2
}

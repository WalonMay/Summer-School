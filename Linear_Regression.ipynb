{
 "cells": [
  {
   "cell_type": "markdown",
   "metadata": {
    "collapsed": true
   },
   "source": [
    "# Linear Regression 线性回归"
   ]
  },
  {
   "cell_type": "markdown",
   "metadata": {},
   "source": [
    "Name: [Your name]\n",
    "\n",
    "Skeleton framework for you to fill in (Code you need to provide is marked by `###`):"
   ]
  },
  {
   "cell_type": "code",
   "execution_count": 1,
   "metadata": {
    "collapsed": true
   },
   "outputs": [],
   "source": [
    "import scipy.io as sio\n",
    "import matplotlib.pyplot as plt  \n",
    "import numpy as np \n",
    "from numpy.linalg import *\n",
    "import pandas as pd"
   ]
  },
  {
   "cell_type": "code",
   "execution_count": 2,
   "metadata": {
    "collapsed": true
   },
   "outputs": [],
   "source": [
    "def LR_train( x , y , lamb=0.0001 ):\n",
    "    \"\"\"\n",
    "    Function: Calculate the regression coefficient\n",
    "    Input:    \n",
    "              x:    Training data, size: [num_sample dimension]\n",
    "              y:    Training label, size: [num_sample 1]\n",
    "              lamb: The regularization coefficient\n",
    "    Outpyt:   \n",
    "              w:    Regression coefficient\n",
    "    \"\"\"\n",
    "    # The variable m is the number of the training data. \n",
    "    # The variable d is the dimension of the training data.\n",
    "    [m, d] = x.shape\n",
    "    \n",
    "    # Add a vector whose component all is 1 to the sample matrix\n",
    "    x = np.column_stack( ((np.ones(m)).T , x) )\n",
    "    \n",
    "    # Your code\n",
    "    # Here you should calculate the weight.\n",
    "    w = ###\n",
    "    \n",
    "    return w"
   ]
  },
  {
   "cell_type": "code",
   "execution_count": 3,
   "metadata": {
    "collapsed": true
   },
   "outputs": [],
   "source": [
    "def LR_test( x , y, w, problem_type='regression' ):\n",
    "    \"\"\"\n",
    "    Function: Predict the testing data\n",
    "    Input:    \n",
    "              x: Testing data, size: [num_sample dimension]\n",
    "              y: Testing label, size: [num_sample 1]\n",
    "              w: Regression coefficient, size: [dimension+1 1]\n",
    "              problem_type: The type of problem which you want to slove. Only regression and classification\n",
    "    Output:   \n",
    "              t: Prediction of testing data\n",
    "    \"\"\"\n",
    "    # The variable m is the number of the testing data. \n",
    "    # The variable d is the dimension of the testing data.\n",
    "    m, d = x.shape\n",
    "    \n",
    "    x = np.column_stack( ((np.ones(m)).T , x) )\n",
    "    # Your code\n",
    "    # Here, the variable t is the prediction of testing data, and you should calculate it.\n",
    "    t = ###\n",
    "    \n",
    "    # Three kinds of errors\n",
    "    er = t - y\n",
    "    MSE = (er**2).mean()                      # Mean Squared Error\n",
    "    MAE = abs(er).mean()                      # Average Absolute Error\n",
    "    SD = np.sqrt((( er-er.mean())**2).mean()) # Error Standard Deviation\n",
    "    \n",
    "    if problem_type=='classification':\n",
    "        acc = np.equal(np.rint(t), y).mean() * 100\n",
    "        text = \"The Linear Regression's accuracy is %.2f%%.\" %(acc)\n",
    "        print(text)\n",
    "    \n",
    "    obj = pd.Series([MSE,MAE,SD], index=['MSE','MAE','SD'])\n",
    "    print(obj)\n",
    "    \n",
    "    return t"
   ]
  },
  {
   "cell_type": "code",
   "execution_count": 4,
   "metadata": {},
   "outputs": [
    {
     "data": {
      "image/png": "[encoded data removed]",
      "text/plain": [
       "<matplotlib.figure.Figure at 0xa0ad5f8>"
      ]
     },
     "metadata": {},
     "output_type": "display_data"
    }
   ],
   "source": [
    "# Create data\n",
    "# The slope k is 1, the bias b is 2. The weight is the transposition of [w, b]\n",
    "w = np.array([[1.0], [2.0]])\n",
    "\n",
    "# The x is (0, 0.05, 0.1,..., 4.95, 5)\n",
    "x = np.arange(0,5,5/100)\n",
    "x = np.column_stack( ((np.ones(100)) , x) )\n",
    "\n",
    "true_y = np.dot(x, w)\n",
    "# Add the noise to the data.\n",
    "noise_y = true_y + np.random.randn(100,1)\n",
    "true_y = np.round(true_y, 2)\n",
    "\n",
    "plt.plot(x[:,1], noise_y, 'o')\n",
    "plt.plot(x[:,1], np.dot(x, w))\n",
    "plt.show()"
   ]
  },
  {
   "cell_type": "code",
   "execution_count": 5,
   "metadata": {},
   "outputs": [
    {
     "name": "stdout",
     "output_type": "stream",
     "text": [
      "MSE    0.056222\n",
      "MAE    0.196264\n",
      "SD     0.197832\n",
      "dtype: float64\n"
     ]
    },
    {
     "data": {
      "image/png": "[encoded data removed]",
      "text/plain": [
       "<matplotlib.figure.Figure at 0xa4c45c0>"
      ]
     },
     "metadata": {},
     "output_type": "display_data"
    },
    {
     "name": "stdout",
     "output_type": "stream",
     "text": [
      "The blue one is the Linear Regression estimated parameters. The red one is the true parameters.\n"
     ]
    }
   ],
   "source": [
    "pred_w = LR_train(x, noise_y)\n",
    "t = LR_test(x, true_y, pred_w)\n",
    "\n",
    "plt.figure(figsize=(10,10)) \n",
    "plt.plot(x[:,1], t, 'b')\n",
    "plt.plot(x[:,1], np.dot(x, w), 'r')\n",
    "plt.show()\n",
    "print('The blue one is the Linear Regression estimated parameters. The red one is the true parameters.')"
   ]
  },
  {
   "cell_type": "code",
   "execution_count": 6,
   "metadata": {
    "collapsed": true
   },
   "outputs": [],
   "source": [
    "# Import data\n",
    "# data_path = ### \"The path where you store the SpectralClassification data\" ###\n",
    "data_path = \"G://three set/SpectralClassification/No removal of continuous spectrum/\"\n",
    "\n",
    "data=sio.loadmat(data_path + \"SpectralClassificationTrain.mat\") \n",
    "train_x = data['train_x']\n",
    "train_y = np.reshape(data['train_y'][:,0], [-1,1])\n",
    "\n",
    "data=sio.loadmat(data_path + \"SpectralClassificationTest.mat\") \n",
    "test_x = data['test_x']\n",
    "test_y = np.reshape(data['test_y'][:,0], [-1,1])\n",
    "\n",
    "del data"
   ]
  },
  {
   "cell_type": "code",
   "execution_count": 7,
   "metadata": {},
   "outputs": [
    {
     "name": "stdout",
     "output_type": "stream",
     "text": [
      "The Linear Regression's accuracy is 82.50%.\n",
      "MSE    0.264380\n",
      "MAE    0.337140\n",
      "SD     0.495198\n",
      "dtype: float64\n"
     ]
    }
   ],
   "source": [
    "w = LR_train(train_x, train_y)\n",
    "t = LR_test(test_x , test_y , w, problem_type='classification')"
   ]
  },
  {
   "cell_type": "code",
   "execution_count": null,
   "metadata": {
    "collapsed": true
   },
   "outputs": [],
   "source": []
  }
 ],
 "metadata": {
  "kernelspec": {
   "display_name": "Python 3",
   "language": "python",
   "name": "python3"
  },
  "language_info": {
   "codemirror_mode": {
    "name": "ipython",
    "version": 3
   },
   "file_extension": ".py",
   "mimetype": "text/x-python",
   "name": "python",
   "nbconvert_exporter": "python",
   "pygments_lexer": "ipython3",
   "version": "3.6.1"
  }
 },
 "nbformat": 4,
 "nbformat_minor": 2
}

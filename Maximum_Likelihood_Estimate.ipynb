{
 "cells": [
  {
   "cell_type": "markdown",
   "metadata": {},
   "source": [
    "# Maximum Likelihood Estimate(MLE) 最大似然估计"
   ]
  },
  {
   "cell_type": "markdown",
   "metadata": {},
   "source": [
    "Name: [Your name]\n"
   ]
  },
  {
   "cell_type": "markdown",
   "metadata": {},
   "source": [
    "<script type=\"text/javascript\" src=\"http://cdn.mathjax.org/mathjax/latest/MathJax.js?config=default\"></script><font size=4>\n",
    "\n",
    "1.设总体概率函数如下, $x_1, \\dots ,x_n$是样本, 试求未知参数的最大似然估计.\n",
    "\n",
    "(1) $p(x; \\theta)=\\sqrt{\\theta}x^{\\sqrt{\\theta}-1}, 0<x<1, \\theta>0$;\n",
    "\n",
    "(2) $p(x; \\theta)=\\theta c^{\\theta}x^{-(\\theta+1)}, x>c, c>0, \\theta>1$;\n",
    "\n",
    "\n",
    "\n",
    "\n",
    "\n",
    "</font>"
   ]
  },
  {
   "cell_type": "markdown",
   "metadata": {},
   "source": [
    "解:(1)由题可知它的最大似然函数为\n",
    "\n",
    "$$L(\\theta) = P(x_1;\\theta)P(x_2;\\theta){\\dots}P(x_n;\\theta) = {(\\sqrt{\\theta})^n}({x_1}{x_2}\\dots{x_n})^{\\sqrt{\\theta}-1}$$\n",
    "而它的对数为\n",
    "\n",
    "$$ln(L(\\theta)) = {\\frac{n}{2}}ln(\\theta) + (\\sqrt{\\theta} - 1)ln({x_1}{x_2}\\dots{x_n})$$\n",
    "\n",
    "对其求导，有\n",
    "\n",
    "$$\\frac{\\partial{ln(L(\\theta))}}{\\partial{\\theta}} = {\\frac{n}{2\\theta}} + \\frac{ln({x_1}{x_2}\\dots{x_n})}{2\\sqrt{\\theta}})$$\n",
    "\n",
    "令导数为零，解得\n",
    "\n",
    "$$\\theta = (\\frac{n}{ln({x_1}{x_2}\\dots{x_n})})^2$$\n",
    "\n",
    "这就是对未知参数的最大似然估计。\n",
    "\n",
    "(2)由题可知它的最大似然函数为\n",
    "\n",
    "$$L(\\theta) = P(x_1;\\theta)P(x_2;\\theta){\\dots}P(x_n;\\theta) = {{\\theta}^n}{c^{n\\theta}}{({x_1}{x_2}\\dots{x_n})^{-(\\theta + 1)}}$$\n",
    "\n",
    "而它的对数为\n",
    "\n",
    "$$ln(L(\\theta)) = nln(\\theta) + n\\theta{ln(c)} -(\\theta + 1)ln({x_1}{x_2}\\dots{x_n})$$\n",
    "\n",
    "对其求导，有\n",
    "\n",
    "$$\\frac{\\partial{ln(L(\\theta))}}{\\partial{\\theta}} = {\\frac{n}{\\theta}} + nln(c) - ln({x_1}{x_2}\\dots{x_n})$$\n",
    "\n",
    "令导数为零，解得\n",
    "\n",
    "$$\\theta = \\frac{n}{ln({x_1}{x_2}\\dots{x_n}) - nln(c)}$$\n",
    "\n",
    "这就是对未知参数的最大似然估计。"
   ]
  },
  {
   "cell_type": "markdown",
   "metadata": {},
   "source": [
    "<script type=\"text/javascript\" src=\"http://cdn.mathjax.org/mathjax/latest/MathJax.js?config=default\"></script><font size=4>\n",
    "\n",
    "2.假如有一个罐子, 里面有黑白两种颜色的球, 数目多少不知, 两种颜色的比例也不知. 我们想知道罐中白球和黑球的比例, 但我们不能把罐中的球全部拿出来数(球太多了, 耽误我上王者). 现在我们可以进行100次实验, 每次实验都拿出10个球, 记录下白球的数量. 假设这100次实验都相与独立的, 请问罐中白球所占的比例最有可能是多少? 实验的数据如下:\n",
    "\n",
    "\n",
    "| 拿出白球的数量 | 0 | 1 | 2 | 3 | 4 | 5 | 6 | 7 | 8 | 9 | 10 |\n",
    "|:----------------:|:-:|:-:|:-:|:-:|:-:|:-:|:-:|:-:|:-:|:-:|:--:|\n",
    "| 实验次数      | 0 | 1 | 6 | 7 | 23 | 26 | 21 | 12 | 3 | 1 | 0 |\n",
    "\n",
    "tips: 变量X为每次实验中拿出白球的个数, 且X服从二项分布Bin(x|10, p).\n",
    "\n",
    "</font>"
   ]
  },
  {
   "cell_type": "markdown",
   "metadata": {},
   "source": [
    "解:$p(X=x)=f(x;10;p)={C_{10}^x}{p^x}{(1-p)^{10-x}}$\n",
    "\n",
    "因此可知它的最大似然函数为\n",
    "\n",
    "$$L(p) = {\\sum_{i = 1}^{100}}P(x_i;p) = {\\sum_{i = 1}^{100}}{C_{10}^{x_i}}{p^{x_i}}{(1-p)^{10-x_i}}$$\n",
    "\n",
    "即\n",
    "\n",
    "$$L(p) = {\\sum_{i = 1}^{100}}{C_{10}^{x_i}}\\times{p^{{\\sum\\limits_{i = 1}^{100}}x_i}}{(1-p)^{1000-{\\sum\\limits_{i = 1}^{100}}x_i}}$$\n",
    "\n",
    "而它的对数为\n",
    "\n",
    "$$ln(L(p)) = ln({\\sum_{i = 1}^{100}}{C_{10}^{x_i}})+{{\\sum\\limits_{i = 1}^{100}}x_i}ln(p)+{1000-{\\sum\\limits_{i = 1}^{100}}x_i}ln(1-p)$$\n",
    "\n",
    "对其求导，有\n",
    "\n",
    "$$\\frac{\\partial{ln(L(p))}}{\\partial{p}} = {\\frac{{\\sum\\limits_{i = 1}^{100}}x_i}{p}} - {\\frac{1000-{\\sum\\limits_{i = 1}^{100}}x_i}{1-p}}$$\n",
    "\n",
    "令导数为零，解得\n",
    "\n",
    "$$p = \\frac{{\\sum\\limits_{i = 1}^{100}}x_i}{1000} = \\frac{499}{1000} = 0.499$$"
   ]
  },
  {
   "cell_type": "markdown",
   "metadata": {},
   "source": [
    "遇到不会输入的数学符号, 可以参考《LATEX数学符号表.pdf》文献中的说明, Markdown的公式输入与Latex相类似, 现在多掌握一下Markdown的公式输入, 对你以后的Latex写作是很有帮助."
   ]
  },
  {
   "cell_type": "markdown",
   "metadata": {},
   "source": [
    "参考文献:\n",
    "\n",
    "[1]茆诗松, 程依明, 濮晓龙, 等. 概率论与数理统计教程 (第二版). 北京: 高等教育出版社, 2011."
   ]
  },
  {
   "cell_type": "code",
   "execution_count": null,
   "metadata": {
    "collapsed": true
   },
   "outputs": [],
   "source": []
  },
  {
   "cell_type": "markdown",
   "metadata": {},
   "source": [
    "如果你有什么疑问或者收获, 你可以在这里记录下来.\n",
    "###"
   ]
  },
  {
   "cell_type": "code",
   "execution_count": null,
   "metadata": {
    "collapsed": true
   },
   "outputs": [],
   "source": []
  }
 ],
 "metadata": {
  "kernelspec": {
   "display_name": "Python 3",
   "language": "python",
   "name": "python3"
  },
  "language_info": {
   "codemirror_mode": {
    "name": "ipython",
    "version": 3
   },
   "file_extension": ".py",
   "mimetype": "text/x-python",
   "name": "python",
   "nbconvert_exporter": "python",
   "pygments_lexer": "ipython3",
   "version": "3.6.1"
  }
 },
 "nbformat": 4,
 "nbformat_minor": 2
}
